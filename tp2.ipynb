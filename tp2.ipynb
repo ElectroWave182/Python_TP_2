{
 "cells": [
  {
   "cell_type": "markdown",
   "metadata": {},
   "source": [
    "# TP n°2 : Turtle, conditions\n",
    "\n"
   ]
  },
  {
   "cell_type": "markdown",
   "metadata": {},
   "source": [
    "___________________________________________________________________________\n",
    "## Turtle : quelques marches\n",
    "\n"
   ]
  },
  {
   "cell_type": "markdown",
   "metadata": {},
   "source": [
    "Imaginez une maison. Dessinez le sol avec un escalier à 5 marches suivi du sol de l'étage (ne pas dessiner la maison).\n",
    "\n",
    "![](escalier.png)\n",
    "\n"
   ]
  },
  {
   "cell_type": "code",
   "execution_count": 9,
   "metadata": {
    "collapsed": false
   },
   "outputs": [],
   "source": [
    "from turtle import *\n",
    "reset()\n",
    "\n",
    "goto(-500,-300)\n",
    "clear()\n",
    "fd(300)\n",
    "lt(90)\n",
    "fd(100)\n",
    "rt(90)\n",
    "fd(100)\n",
    "lt(90)\n",
    "fd(100)\n",
    "rt(90)\n",
    "fd(100)\n",
    "lt(90)\n",
    "fd(100)\n",
    "rt(90)\n",
    "fd(100)\n",
    "lt(90)\n",
    "fd(100)\n",
    "rt(90)\n",
    "fd(100)\n",
    "lt(90)\n",
    "fd(100)\n",
    "rt(90)\n",
    "fd(300)"
   ]
  },
  {
   "cell_type": "markdown",
   "metadata": {},
   "source": [
    "___________________________________________________________________________\n",
    "## Turtle : découper un carré\n",
    "\n"
   ]
  },
  {
   "cell_type": "markdown",
   "metadata": {},
   "source": [
    "Dessiner une pizza carrée découpée en huit parts egales. Le côté de la pizza sera placé dans une variable en sorte que la figure puisse être modifiée en changeant juste une valeur dans le code.\n",
    "\n",
    "![](pizza.png)\n",
    "\n"
   ]
  },
  {
   "cell_type": "code",
   "execution_count": 11,
   "metadata": {
    "collapsed": true
   },
   "outputs": [],
   "source": [
    "from turtle import *\n",
    "reset()\n",
    "\n",
    "x = 200\n",
    "goto(0,x)\n",
    "goto(x,x)\n",
    "goto(0,0)\n",
    "goto(x,x)\n",
    "goto(x,0)\n",
    "goto(0,0)\n",
    "goto(x,0)\n",
    "goto(x,-x)\n",
    "goto(0,0)\n",
    "goto(x,-x)\n",
    "goto(0,-x)\n",
    "goto(0,0)\n",
    "goto(0,-x)\n",
    "goto(-x,-x)\n",
    "goto(0,0)\n",
    "goto(-x,-x)\n",
    "goto(-x,0)\n",
    "goto(0,0)\n",
    "goto(-x,0)\n",
    "goto(-x,x)\n",
    "goto(0,0)\n",
    "goto(-x,x)\n",
    "goto(0,x)\n",
    "goto(0,0)"
   ]
  },
  {
   "cell_type": "markdown",
   "metadata": {},
   "source": [
    "___________________________________________________________________________\n",
    "## Conditions sur un entier\n",
    "\n"
   ]
  },
  {
   "cell_type": "markdown",
   "metadata": {},
   "source": [
    "Dans cette question, `x` est supposé être un entier. Créer une variable booléenne `cond` (prenant comme valeur `True` ou `False`) qui teste  si `x` est ou bien multiple de 10 ou bien à la fois impair, non multiple de 3 et compris, au sens large, entre 42 et 421. Ainsi `x = 2020` passe le test, `x = 301` aussi, `x = 420` également mais pas `x = 81`.\n",
    "\n"
   ]
  },
  {
   "cell_type": "code",
   "execution_count": 12,
   "metadata": {
    "collapsed": false
   },
   "outputs": [
    {
     "name": "stdout",
     "output_type": "stream",
     "text": [
      "True\n",
      "True\n",
      "True\n",
      "False\n"
     ]
    }
   ],
   "source": [
    "x = 2020\n",
    "cond = x % 10 == 0 or x % 2 == 1 and x % 3 != 0 and 42 <= x <= 421\n",
    "print(cond)\n",
    "\n",
    "x = 301\n",
    "cond = x % 10 == 0 or x % 2 == 1 and x % 3 != 0 and 42 <= x <= 421\n",
    "print(cond)\n",
    "\n",
    "x = 420\n",
    "cond = x % 10 == 0 or x % 2 == 1 and x % 3 != 0 and 42 <= x <= 421\n",
    "print(cond)\n",
    "\n",
    "x = 81\n",
    "cond = x % 10 == 0 or x % 2 == 1 and x % 3 != 0 and 42 <= x <= 421\n",
    "print(cond)"
   ]
  },
  {
   "cell_type": "markdown",
   "metadata": {},
   "source": [
    "___________________________________________________________________________\n",
    "## Test de la non-égalité de cinq entiers\n",
    "\n"
   ]
  },
  {
   "cell_type": "markdown",
   "metadata": {},
   "source": [
    "On donne cinq entiers a, b, c, d et e. Soit la condition C suivante : *les 5 entiers ne sont pas tous égaux*.  Par exemple\n",
    "\n",
    "\n",
    "- si a=5, b=5, c=5, d=4 et e=4 alors C est True\n",
    "\n",
    "- si a=5, b=5, c=5, d=5 et e=5 alors C est False\n",
    "\n",
    "Ecrire une variable booléenne qui vaut True si la condition C est vraie et False sinon.\n",
    "\n"
   ]
  },
  {
   "cell_type": "code",
   "execution_count": 13,
   "metadata": {
    "collapsed": false
   },
   "outputs": [
    {
     "name": "stdout",
     "output_type": "stream",
     "text": [
      "True\n",
      "False\n"
     ]
    }
   ],
   "source": [
    "a, b, c, d, e = 5, 5, 5, 4, 4\n",
    "C = not(a == b == c == d == e)\n",
    "print(C)\n",
    "\n",
    "a, b, c, d, e = 5, 5, 5, 5, 5\n",
    "C = not(a == b == c == d == e)\n",
    "print(C)"
   ]
  },
  {
   "cell_type": "markdown",
   "metadata": {},
   "source": [
    "___________________________________________________________________________\n",
    "## Heures d'ouverture\n",
    "\n"
   ]
  },
  {
   "cell_type": "markdown",
   "metadata": {},
   "source": [
    "Dans l'exercice, on supposera que\n",
    "\n",
    "\n",
    "- les jours de la semaine sont codés à l'aide d'un entier $\\mathtt{j}$ avec $\\mathtt{j=1}$ pour lundi, $\\mathtt{j=2}$ pour mardi, et ainsi de suite jusqu'à dimanche ($\\mathtt{j=7}$)\n",
    "\n",
    "- une heure est codée par une entier entre 0 (inclus) et 24 (exclu).\n",
    "\n",
    "Un magasin est ouvert du lundi au vendredi de 8h à 18h et le samedi de 9h à 12h et il est fermé le reste du temps.\n",
    "\n",
    "On donne un jour $\\mathtt{j}$ et une heure $\\mathtt{h}$ et on demande d'écrire un booléen `estOuvert` et qui vaut `True` si le magasin est ouvert le jour `j` à l'heure `h` et `False` sinon.\n",
    "\n",
    "Voici quelques exemples de comportements du programme :\n",
    "\n",
    "j|h|Ouvert ?\n",
    "---|---|---\n",
    "2|17|True\n",
    "6|10|True\n",
    "2|19|False\n",
    "6|17|False\n",
    "\n",
    "\n"
   ]
  },
  {
   "cell_type": "code",
   "execution_count": 14,
   "metadata": {
    "collapsed": false
   },
   "outputs": [
    {
     "name": "stdout",
     "output_type": "stream",
     "text": [
      "True\n",
      "True\n",
      "False\n",
      "False\n"
     ]
    }
   ],
   "source": [
    "j, h = 2, 17\n",
    "estOuvert = 1 <= j <= 5 and 8 <= h < 18 or j == 6 and 9 <= h < 12\n",
    "print(estOuvert)\n",
    "\n",
    "j, h = 6, 10\n",
    "estOuvert = 1 <= j <= 5 and 8 <= h < 18 or j == 6 and 9 <= h < 12\n",
    "print(estOuvert)\n",
    "\n",
    "j, h = 2, 19\n",
    "estOuvert = 1 <= j <= 5 and 8 <= h < 18 or j == 6 and 9 <= h < 12\n",
    "print(estOuvert)\n",
    "\n",
    "j, h = 6, 17\n",
    "estOuvert = 1 <= j <= 5 and 8 <= h < 18 or j == 6 and 9 <= h < 12\n",
    "print(estOuvert)"
   ]
  },
  {
   "cell_type": "markdown",
   "metadata": {},
   "source": [
    "___________________________________________________________________________\n",
    "## Afficher l'écart entre deux nombres\n",
    "\n"
   ]
  },
  {
   "cell_type": "markdown",
   "metadata": {},
   "source": [
    "On donne deux entiers `a` et `b` et on demande d'afficher  un message comme ci-dessous :\n",
    "\n",
    "    L'écart entre a et b est de e\n",
    "où a, b et e sont remplacées par les valeurs adaptées. Voici quelques exemples de comportement :\n",
    "\n",
    "    82 , 42 -> L'écart entre 82 et 42 est de 40\n",
    "    1970 , 2038 -> L'écart entre 1970 et 2038 est de 68\n",
    "    42 , 42 -> L'écart entre 42 et 42 est de 0\n",
    "    42 , -10 -> L'écart entre 42 et -10 est de 52\n"
   ]
  },
  {
   "cell_type": "code",
   "execution_count": 15,
   "metadata": {
    "collapsed": false
   },
   "outputs": [
    {
     "name": "stdout",
     "output_type": "stream",
     "text": [
      "L'écart entre 82 et 42 est de 40\n",
      "L'écart entre 1970 et 2038 est de 68\n",
      "L'écart entre 42 et 42 est de 0\n",
      "L'écart entre 42 et -10 est de 52\n"
     ]
    }
   ],
   "source": [
    "a, b = 82, 42\n",
    "print(\"L'écart entre\", a, \"et\", b, \"est de\", abs(a - b))\n",
    "\n",
    "a, b = 1970, 2038\n",
    "print(\"L'écart entre\", a, \"et\", b, \"est de\", abs(a - b))\n",
    "\n",
    "a, b = 42, 42\n",
    "print(\"L'écart entre\", a, \"et\", b, \"est de\", abs(a - b))\n",
    "\n",
    "a, b = 42, -10\n",
    "print(\"L'écart entre\", a, \"et\", b, \"est de\", abs(a - b))"
   ]
  },
  {
   "cell_type": "markdown",
   "metadata": {},
   "source": [
    "___________________________________________________________________________\n",
    "## Équation du second degré\n",
    "\n"
   ]
  },
  {
   "cell_type": "markdown",
   "metadata": {},
   "source": [
    "L'exercice consiste à écrire un code permettant de résoudre dans l'ensemble des réels une équation du second degré $ax^2+bx+c=0$. On supposera que $a,b,c$ sont des entiers, que $a$ est non nul et que l'inconnue $x$ est un nombre réel.\n",
    "\n",
    "###Rappels : résolution de l'équation du second degré\n",
    "\n",
    "On rappelle la résolution de l'équation. On calcule $\\Delta=b^2-4ac$. Il y a alors trois cas :\n",
    "\n",
    "\n",
    "- *1er cas*: $\\Delta>0$. L'équation admet deux solutions réelles, données par les formules $$ x_1= \\frac{-b-\\sqrt\\Delta}{2a}\\quad{et}\\quad x_2=\\frac{-b+\\sqrt\\Delta}{2a}.$$\n",
    "\n",
    "- *2ème cas* : $\\Delta=0$. L'équation admet une seule solution réelle, $x= \\frac{-b}{2a}$, donnée par n'importe laquelle des deux formules du 1er cas.\n",
    "\n",
    "- *3ème cas*  : $\\Delta < 0$. L'équation n'admet aucune solution.\n",
    "\n"
   ]
  },
  {
   "cell_type": "markdown",
   "metadata": {},
   "source": [
    "1) Écrire un code Python qui détermine le nombre de solutions d'une équation du second degré.\n",
    "\n"
   ]
  },
  {
   "cell_type": "code",
   "execution_count": 20,
   "metadata": {
    "collapsed": false,
    "scrolled": true
   },
   "outputs": [
    {
     "name": "stdout",
     "output_type": "stream",
     "text": [
      "1\n",
      "6\n",
      "9\n",
      "0.0\n",
      "1 solution réelle\n"
     ]
    }
   ],
   "source": [
    "a, b, c = float(input()), float(input()), float(input())\n",
    "delta = b**2 - 4*a*c\n",
    "if delta > 0.: print(\"2 solutions réelles\")\n",
    "elif delta == 0.: print(\"1 solution réelle\")\n",
    "else: print(\"aucune solution réelle\")"
   ]
  },
  {
   "cell_type": "markdown",
   "metadata": {},
   "source": [
    "2) Affiner le code précédent pour résoudre complètement dans les réels l'équation $ax^2+bx+c=0$ et afficher les solutions éventuelles sous forme de nombres flottants (et pas de fractions). Tester les trois équations suivantes :\n",
    "\n",
    "Equation|Solutions\n",
    "---|---\n",
    "$6x^2-5x+1=0$|$1/2$ et $1/3$\n",
    "$4x^2-12x+9=0$|$3/2$\n",
    "$6x^2+7x+7=0$|Aucune\n",
    "\n",
    "\n"
   ]
  },
  {
   "cell_type": "code",
   "execution_count": 27,
   "metadata": {
    "collapsed": false
   },
   "outputs": [
    {
     "name": "stdout",
     "output_type": "stream",
     "text": [
      "2 solutions réelles :\n",
      "0.3333333333333333 et 0.5\n",
      "\n",
      "1 solution réelle :\n",
      "1.5\n",
      "\n",
      "aucune solution réelle.\n"
     ]
    }
   ],
   "source": [
    "a, b, c = 6, -5, 1\n",
    "delta = b**2 - 4*a*c\n",
    "if delta > 0.:\n",
    "    print(\"2 solutions réelles :\")\n",
    "    print((-b - delta**0.5)/(2*a), \"et\",(-b + delta**0.5)/(2*a))\n",
    "elif delta == 0.:\n",
    "    print(\"1 solution réelle :\")\n",
    "    print(-b/(2*a))\n",
    "else:\n",
    "    print(\"aucune solution réelle.\")\n",
    "\n",
    "print()\n",
    "a, b, c = 4, -12, 9\n",
    "delta = b**2 - 4*a*c\n",
    "if delta > 0.:\n",
    "    print(\"2 solutions réelles :\")\n",
    "    print((-b - delta**0.5)/(2*a), \"et\",(-b + delta**0.5)/(2*a))\n",
    "elif delta == 0.:\n",
    "    print(\"1 solution réelle :\")\n",
    "    print(-b/(2*a))\n",
    "else:\n",
    "    print(\"aucune solution réelle.\")\n",
    "\n",
    "print()\n",
    "a, b, c = 6, 7, 7\n",
    "delta = b**2 - 4*a*c\n",
    "if delta > 0.:\n",
    "    print(\"2 solutions réelles :\")\n",
    "    print((-b - delta**0.5)/(2*a), \"et\",(-b + delta**0.5)/(2*a))\n",
    "elif delta == 0.:\n",
    "    print(\"1 solution réelle :\")\n",
    "    print(-b/(2*a))\n",
    "else:\n",
    "    print(\"aucune solution réelle.\")"
   ]
  },
  {
   "cell_type": "markdown",
   "metadata": {},
   "source": [
    "___________________________________________________________________________\n",
    "## Ordonner trois entiers\n",
    "\n"
   ]
  },
  {
   "cell_type": "markdown",
   "metadata": {},
   "source": [
    "On donne trois entiers `a`, `b` et `c` et on demande d'écrire un programme qui affiche ces trois entiers dans l'ordre croissant.\n",
    "\n"
   ]
  },
  {
   "cell_type": "code",
   "execution_count": 28,
   "metadata": {
    "collapsed": false
   },
   "outputs": [
    {
     "name": "stdout",
     "output_type": "stream",
     "text": [
      "1\n",
      "5\n",
      "-4\n",
      "[-4, 1, 5]\n"
     ]
    }
   ],
   "source": [
    "a, b, c = int(input()), int(input()), int(input())\n",
    "print(sorted([a, b, c]))"
   ]
  },
  {
   "cell_type": "markdown",
   "metadata": {},
   "source": [
    "___________________________________________________________________________\n",
    "## Date valide (`if\\elif`)\n",
    "\n"
   ]
  },
  {
   "cell_type": "markdown",
   "metadata": {},
   "source": [
    "On donne une date en utilisant  deux variables `jour` et `mois` deux entiers strictement positifs et on demande d'écrire un booléen `estDateValide` qui dise si la date `jour/mois` définit une date valide du calendrier. Par exemple :\n",
    "\n",
    "Jour, mois|Valide|Explication\n",
    "---|---|---\n",
    "`18, 3`|True|18 mars\n",
    "`31, 12`|True|31 décembre\n",
    "`35, 3`|False|un mois n'a pas 35 jours\n",
    "`31, 11`|False|pas de 31 novembre\n",
    "\n",
    "\n",
    "Pour simplifier, on supposera que le mois de février a 28 jours.\n",
    "\n",
    "Indication : utiliser une condition testant si le mois est en 31, 30 ou 28 jours.\n",
    "\n"
   ]
  },
  {
   "cell_type": "code",
   "execution_count": 29,
   "metadata": {
    "collapsed": false
   },
   "outputs": [
    {
     "name": "stdout",
     "output_type": "stream",
     "text": [
      "True\n",
      "True\n",
      "False\n",
      "False\n"
     ]
    }
   ],
   "source": [
    "jour, mois = 18, 3\n",
    "edv = jour >= 1 and (mois in [1, 3, 5, 7, 8, 10, 12] and jour <= 31 or mois in [4, 6, 9, 11] and jour <= 30 or mois == 2 and jour <= 28)\n",
    "print(edv)\n",
    "\n",
    "jour, mois = 31, 12\n",
    "edv = jour >= 1 and (mois in [1, 3, 5, 7, 8, 10, 12] and jour <= 31 or mois in [4, 6, 9, 11] and jour <= 30 or mois == 2 and jour <= 28)\n",
    "print(edv)\n",
    "\n",
    "jour, mois = 35, 3\n",
    "edv = jour >= 1 and (mois in [1, 3, 5, 7, 8, 10, 12] and jour <= 31 or mois in [4, 6, 9, 11] and jour <= 30 or mois == 2 and jour <= 28)\n",
    "print(edv)\n",
    "\n",
    "jour, mois = 31, 11\n",
    "edv = jour >= 1 and (mois in [1, 3, 5, 7, 8, 10, 12] and jour <= 31 or mois in [4, 6, 9, 11] and jour <= 30 or mois == 2 and jour <= 28)\n",
    "print(edv)"
   ]
  },
  {
   "cell_type": "markdown",
   "metadata": {},
   "source": [
    "___________________________________________________________________________\n",
    "## Arrondir l'heure\n",
    "\n"
   ]
  },
  {
   "cell_type": "markdown",
   "metadata": {},
   "source": [
    "1) On donne un entier $n\\geq 0$. Construire une variable `N` valant le multiple de 5 **le plus proche** de $n$. Vous raisonnerez en fonction la valeur du reste de la division de `n` par 5.\n",
    "\n",
    "Par exemple :\n",
    "\n",
    "\n",
    "- si $n=42$ alors $N=40$\n",
    "\n",
    "- si $n=15$ alors $N=15$\n",
    "\n",
    "- si $n=64$ alors $N=65$\n",
    "\n",
    "- si $n=90$ alors $N=90$\n",
    "\n",
    "- si $n=0$ alors $N=0$\n",
    "\n"
   ]
  },
  {
   "cell_type": "code",
   "execution_count": 31,
   "metadata": {
    "collapsed": false
   },
   "outputs": [
    {
     "name": "stdout",
     "output_type": "stream",
     "text": [
      "40\n",
      "15\n",
      "65\n",
      "90\n",
      "0\n"
     ]
    }
   ],
   "source": [
    "n = 42\n",
    "reste = n % 5\n",
    "N = n - reste\n",
    "if reste >= 2.5: N += 5\n",
    "print(N)\n",
    "\n",
    "n = 15\n",
    "reste = n % 5\n",
    "N = n - reste\n",
    "if reste >= 2.5: N += 5\n",
    "print(N)\n",
    "\n",
    "n = 64\n",
    "reste = n % 5\n",
    "N = n - reste\n",
    "if reste >= 2.5: N += 5\n",
    "print(N)\n",
    "\n",
    "n = 90\n",
    "reste = n % 5\n",
    "N = n - reste\n",
    "if reste >= 2.5: N += 5\n",
    "print(N)\n",
    "\n",
    "n = 0\n",
    "reste = n % 5\n",
    "N = n - reste\n",
    "if reste >= 2.5: N += 5\n",
    "print(N)"
   ]
  },
  {
   "cell_type": "markdown",
   "metadata": {},
   "source": [
    "2) Cette question fait appel à la question précédente. Si vous n'avez pas réussi à la résoudre, vous pourrez utiliser le code ci-dessous qui donne le multiple de 5, appelé `m`, le plus proche de l'entier n :\n",
    "\n"
   ]
  },
  {
   "cell_type": "code",
   "execution_count": null,
   "metadata": {
    "collapsed": true
   },
   "outputs": [],
   "source": [
    "m = round(n/5)*5\n"
   ]
  },
  {
   "cell_type": "markdown",
   "metadata": {},
   "source": [
    "Vous allez devoir écrire un code qui  arrondit une heure donnée aux 5 minutes les plus proches. Une heure de la journée sera codée par deux nombres entiers $h$ et $m$, où $h$ est le nombre d'heures ($0\\leq h< 24$) et $m$ le nombre de minutes ($0\\leq  m < 60$). Par exemple, 14 h 05 est codée par $h=14$ et $m=5$ ou encore 4 h sera codée par $h=4$ et $m=0$.\n",
    "\n",
    "On se donne une heure de la journée, représentée par deux nombres entiers $h$ et $m$. Écrire une code qui calcule l'heure arrondie à 5 minutes près. Plus précisément, votre code devra construire deux variables `H` et `M` correspondant à l'heure arrondie. Voici quelques exemples de comportements attendus :\n",
    "\n",
    "    14h 53m -> [14, 55]\n",
    "    18h 31m -> [18, 30]\n",
    "    02h 10m -> [2, 10]\n",
    "    01h 02m -> [1, 0]\n",
    "    09h 58m -> [10, 0]\n",
    "    23h 58m -> [0, 0]\n",
    "    23h 57m -> [23, 55]\n",
    "*On fera attention de ne pas écrire des nombres de minutes ou d'heures avec un zéro initial (comme 02), Python 3 considérant cette syntaxe comme une erreur.*\n",
    "\n"
   ]
  },
  {
   "cell_type": "code",
   "execution_count": 36,
   "metadata": {
    "collapsed": false
   },
   "outputs": [
    {
     "name": "stdout",
     "output_type": "stream",
     "text": [
      "[14, 55]\n",
      "[18, 30]\n",
      "[2, 10]\n",
      "[1, 0]\n",
      "[10, 0]\n",
      "[0, 0]\n",
      "[23, 55]\n"
     ]
    }
   ],
   "source": [
    "h, m = 14, 53\n",
    "m5 = round(m/5)*5\n",
    "if m5 == 60: \n",
    "    h += 1\n",
    "    m5 = 0\n",
    "print([h % 24, m5])\n",
    "\n",
    "h, m = 18, 31\n",
    "m5 = round(m/5)*5\n",
    "if m5 == 60: \n",
    "    h += 1\n",
    "    m5 = 0\n",
    "print([h % 24, m5])\n",
    "\n",
    "h, m = 2, 10\n",
    "m5 = round(m/5)*5\n",
    "if m5 == 60: \n",
    "    h += 1\n",
    "    m5 = 0\n",
    "print([h % 24, m5])\n",
    "\n",
    "h, m = 1, 2\n",
    "m5 = round(m/5)*5\n",
    "if m5 == 60: \n",
    "    h += 1\n",
    "    m5 = 0\n",
    "print([h % 24, m5])\n",
    "\n",
    "h, m = 9, 58\n",
    "m5 = round(m/5)*5\n",
    "if m5 == 60: \n",
    "    h += 1\n",
    "    m5 = 0\n",
    "print([h % 24, m5])\n",
    "\n",
    "h, m = 23, 58\n",
    "m5 = round(m/5)*5\n",
    "if m5 == 60: \n",
    "    h += 1\n",
    "    m5 = 0\n",
    "print([h % 24, m5])\n",
    "\n",
    "h, m = 23, 57\n",
    "m5 = round(m/5)*5\n",
    "if m5 == 60: \n",
    "    h += 1\n",
    "    m5 = 0\n",
    "print([h % 24, m5])"
   ]
  },
  {
   "cell_type": "markdown",
   "metadata": {},
   "source": [
    "___________________________________________________________________________\n",
    "## Distance d'un point à un rectangle\n",
    "\n"
   ]
  },
  {
   "cell_type": "markdown",
   "metadata": {},
   "source": [
    "Dans le plan rapporté à deux axes perpendiculaires, on donne un rectangle $ABCD$, donné par ses 4 cotés d'équations **x = gauche**, **x = droite**, **y = bas** et **y = haut**. Soit un point M de coordonnées $(x, y)$ intérieur au rectangle $ABCD$.\n",
    "\n"
   ]
  },
  {
   "cell_type": "markdown",
   "metadata": {},
   "source": [
    "1) Écrire un programme qui calcule la distance la plus courte de $M$ aux côtés du rectangle $ABCD$.\n",
    "\n"
   ]
  },
  {
   "cell_type": "code",
   "execution_count": 39,
   "metadata": {
    "collapsed": false
   },
   "outputs": [
    {
     "name": "stdout",
     "output_type": "stream",
     "text": [
      "3\n",
      "5\n",
      "3\n",
      "2\n",
      "1.0\n"
     ]
    }
   ],
   "source": [
    "x, y = float(input()), float(input())\n",
    "mx, my = float(input()), float(input())\n",
    "print(min([round(my/x)*x - my, round(mx/y)*y - mx]))"
   ]
  },
  {
   "cell_type": "markdown",
   "metadata": {},
   "source": [
    "2) Faites une représentation sous Turtle, en dessinant le segment représentant la distance minimale trouvée\n",
    "\n",
    "![](distanceRectangle.png)\n",
    "\n"
   ]
  },
  {
   "cell_type": "code",
   "execution_count": 50,
   "metadata": {
    "collapsed": false
   },
   "outputs": [],
   "source": [
    "from turtle import *\n",
    "reset()\n",
    "\n",
    "x, y = 300, 500\n",
    "mx, my = 300, 200\n",
    "dist = [mx, abs(mx - y), my, abs(my - x)]\n",
    "cote = dist.index(min(dist))\n",
    "if cote == 0: fx, fy = 0, my\n",
    "elif cote == 1: fx, fy = y, my\n",
    "elif cote == 2: fx, fy = mx, 0\n",
    "else: fx, fy = x, mx\n",
    "\n",
    "goto(-y/2, -x/2)\n",
    "clear()\n",
    "goto(-y/2, x/2)\n",
    "goto(y/2, x/2)\n",
    "goto(y/2, -x/2)\n",
    "goto(-y/2, -x/2)\n",
    "up()\n",
    "goto(mx - y/2, my - x/2)\n",
    "down()\n",
    "dot()\n",
    "goto(fx - y/2, fy - x/2)\n",
    "dot()"
   ]
  }
 ],
 "metadata": {
  "kernelspec": {
   "display_name": "Python 3",
   "language": "python",
   "name": "python3"
  },
  "language_info": {
   "codemirror_mode": {
    "name": "ipython",
    "version": 3
   },
   "file_extension": ".py",
   "mimetype": "text/x-python",
   "name": "python",
   "nbconvert_exporter": "python",
   "pygments_lexer": "ipython3",
   "version": "3.5.3"
  }
 },
 "nbformat": 4,
 "nbformat_minor": 1
}
